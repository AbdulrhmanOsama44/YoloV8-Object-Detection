{
 "cells": [
  {
   "cell_type": "markdown",
   "id": "9e1f9138-256a-48c6-898f-84beefd8d95c",
   "metadata": {},
   "source": [
    "# Import Libraries"
   ]
  },
  {
   "cell_type": "code",
   "execution_count": 1,
   "id": "3ff47e63-d7c1-4bc8-9e67-a292c3c66a18",
   "metadata": {},
   "outputs": [],
   "source": [
    "import cv2\n",
    "from ultralytics import YOLO"
   ]
  },
  {
   "cell_type": "markdown",
   "id": "4957a876-d359-432d-abec-119bb041f5d0",
   "metadata": {},
   "source": [
    "# Loading YoloV8 Model"
   ]
  },
  {
   "cell_type": "code",
   "execution_count": 2,
   "id": "cc0d4b48-4e42-4fa0-a031-cf3cabedbd85",
   "metadata": {},
   "outputs": [],
   "source": [
    "model = YOLO('yolov8n')"
   ]
  },
  {
   "cell_type": "markdown",
   "id": "d0a54d07-e2d7-4285-be72-ac8c0853630b",
   "metadata": {},
   "source": [
    "# Opening Camera"
   ]
  },
  {
   "cell_type": "code",
   "execution_count": 3,
   "id": "da73b55e-ba8b-4247-8b42-ffe792cbf037",
   "metadata": {},
   "outputs": [
    {
     "name": "stdout",
     "output_type": "stream",
     "text": [
      "[INFO] Opening Camera...\n",
      "\n",
      "0: 480x640 3 boats, 1 traffic light, 3 parking meters, 1 bird, 12 cats, 10 dogs, 11 bears, 4 backpacks, 6 handbags, 39 ties, 4 suitcases, 2 frisbees, 1 snowboard, 2 sports balls, 1 baseball bat, 3 bottles, 10 forks, 43 knifes, 33 spoons, 1 sandwich, 12 donuts, 17 beds, 12 dining tables, 1 laptop, 10 mouses, 31 remotes, 22 cell phones, 4 clocks, 1 hair drier, 340.9ms\n",
      "Speed: 5.0ms preprocess, 340.9ms inference, 20.9ms postprocess per image at shape (1, 3, 480, 640)\n",
      "\n",
      "0: 480x640 29 cars, 65 airplanes, 5 trains, 1 boat, 16 fire hydrants, 19 stop signs, 22 parking meters, 41 birds, 4 cats, 8 sheeps, 57 bears, 1 giraffe, 2 baseball bats, 1 baseball glove, 2 spoons, 7 pizzas, 4 cakes, 1 couch, 5 beds, 1 dining table, 5 cell phones, 1 oven, 1 teddy bear, 2 hair driers, 283.9ms\n",
      "Speed: 3.0ms preprocess, 283.9ms inference, 18.0ms postprocess per image at shape (1, 3, 480, 640)\n",
      "\n",
      "0: 480x640 101 persons, 15 bicycles, 48 cars, 2 motorcycles, 31 airplanes, 6 buss, 1 truck, 14 boats, 3 traffic lights, 4 fire hydrants, 26 stop signs, 11 parking meters, 1 bench, 13 horses, 1 giraffe, 2 handbags, 1 frisbee, 1 sports ball, 1 baseball bat, 1 baseball glove, 2 bottles, 1 fork, 1 bowl, 1 couch, 1 potted plant, 1 bed, 3 dining tables, 1 mouse, 1 remote, 1 cell phone, 4 ovens, 269.3ms\n",
      "Speed: 3.0ms preprocess, 269.3ms inference, 34.9ms postprocess per image at shape (1, 3, 480, 640)\n",
      "\n",
      "0: 480x640 27 persons, 19 bicycles, 9 cars, 7 motorcycles, 11 airplanes, 8 trains, 3 trucks, 61 boats, 1 traffic light, 20 fire hydrants, 39 stop signs, 17 parking meters, 1 bench, 1 cat, 1 dog, 5 horses, 6 bears, 2 backpacks, 14 umbrellas, 3 handbags, 1 suitcase, 10 frisbees, 7 skiss, 3 sports balls, 1 surfboard, 1 tennis racket, 5 bottles, 1 cup, 1 knife, 6 dining tables, 3 remotes, 1 cell phone, 1 toaster, 3 sinks, 1 clock, 257.3ms\n",
      "Speed: 2.0ms preprocess, 257.3ms inference, 21.9ms postprocess per image at shape (1, 3, 480, 640)\n",
      "[INFO] Closing Camera...\n"
     ]
    }
   ],
   "source": [
    "print('[INFO] Opening Camera...')\n",
    "cap = cv2.VideoCapture(0)\n",
    "\n",
    "while cap.isOpened():\n",
    "\n",
    "    ret, frame = cap.read()\n",
    "    if not ret:\n",
    "        break\n",
    "\n",
    "    results = model(frame)\n",
    "    for box in results[0].boxes.data:\n",
    "        X1, Y1, X2, Y2, Conf, Cls = box\n",
    "        \n",
    "        cv2.rectangle(frame, (int(X1), int(Y1)), (int(X2), int(Y2)), (0, 0, 255), 2)\n",
    "        cv2.putText(frame, f'{model.model.names[int(Cls)]} {Conf :.2f}', (int(X1), int(Y1) - 10), cv2.FONT_HERSHEY_SCRIPT_COMPLEX, 0.9, (0, 0, 255))\n",
    "\n",
    "    cv2.imshow('Frame', frame)\n",
    "    if cv2.waitKey(1) == ord('q'):\n",
    "        break\n",
    "\n",
    "cap.release()\n",
    "cv2.destroyAllWindows()\n",
    "print('[INFO] Closing Camera...')"
   ]
  },
  {
   "cell_type": "markdown",
   "id": "047bb334-76ec-434f-a772-bba511658e34",
   "metadata": {},
   "source": [
    "# Thank You"
   ]
  },
  {
   "cell_type": "markdown",
   "id": "ddcc0077-3602-4a1e-bc2a-9a89a7fc5577",
   "metadata": {},
   "source": [
    "# Eng. Abdulrhman Osama"
   ]
  }
 ],
 "metadata": {
  "kernelspec": {
   "display_name": "Python 3 (ipykernel)",
   "language": "python",
   "name": "python3"
  },
  "language_info": {
   "codemirror_mode": {
    "name": "ipython",
    "version": 3
   },
   "file_extension": ".py",
   "mimetype": "text/x-python",
   "name": "python",
   "nbconvert_exporter": "python",
   "pygments_lexer": "ipython3",
   "version": "3.11.7"
  }
 },
 "nbformat": 4,
 "nbformat_minor": 5
}
